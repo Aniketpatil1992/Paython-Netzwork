{
 "cells": [
  {
   "cell_type": "markdown",
   "id": "64996aae",
   "metadata": {},
   "source": [
    "# sets"
   ]
  },
  {
   "cell_type": "code",
   "execution_count": null,
   "id": "16a5cd20",
   "metadata": {},
   "outputs": [],
   "source": [
    "# Set difference\n",
    "\"\"\"\"The set difference operation between two sets (set A, set B) gives us the elements\n",
    "of set A which are not in set B.\n",
    "A = {1,2,3}\n",
    "B = {3,4}\n",
    "A-B = {1,2}\n",
    "B-A = {4}\n",
    "The set difference A-B and B-A are different from each other.\"\"\""
   ]
  },
  {
   "cell_type": "code",
   "execution_count": 1,
   "id": "0c7359a3",
   "metadata": {},
   "outputs": [
    {
     "name": "stdout",
     "output_type": "stream",
     "text": [
      "{'r', 'e', 't', 'w'}\n",
      "{'a', 'c', 'g'}\n"
     ]
    }
   ],
   "source": [
    "# inbuilt methods in set difference\n",
    "set1= {\"a\",\"d\",\"g\",\"q\",\"c\"}\n",
    "set2= {\"w\",\"e\",\"r\",\"t\",\"d\",\"q\"}\n",
    "set3=set2.difference(set1)\n",
    "set4=set1.difference(set2)\n",
    "print(set3)\n",
    "print(set4)\n"
   ]
  },
  {
   "cell_type": "code",
   "execution_count": 2,
   "id": "56cd6ea2",
   "metadata": {},
   "outputs": [
    {
     "name": "stdout",
     "output_type": "stream",
     "text": [
      "{'a', 'c', 'g'}\n",
      "{'r', 'e', 't', 'w'}\n"
     ]
    }
   ],
   "source": [
    "# Using - operator\n",
    "print(set1-set2)\n",
    "print(set2-set1)"
   ]
  },
  {
   "cell_type": "code",
   "execution_count": 3,
   "id": "2fb6761a",
   "metadata": {},
   "outputs": [
    {
     "data": {
      "text/plain": [
       "{'d', 'q'}"
      ]
     },
     "execution_count": 3,
     "metadata": {},
     "output_type": "execute_result"
    }
   ],
   "source": [
    "set1.intersection(set2)# common element from both set"
   ]
  },
  {
   "cell_type": "markdown",
   "id": "68572b51",
   "metadata": {},
   "source": [
    "#Symmetric difference in sets\n",
    "The symmetric difference between two sets (set A , Set B) is the set of values \n",
    "from both sets that are not shared between the 2 sets. That is values that are\n",
    "in either set A or set B but not in both.\n",
    "\n",
    "A = {1,2,3}\n",
    "B = {3,4,5,6}\n",
    "Symmetric difference = {1,2,4,5,6}"
   ]
  },
  {
   "cell_type": "code",
   "execution_count": 4,
   "id": "c7b4f170",
   "metadata": {},
   "outputs": [
    {
     "data": {
      "text/plain": [
       "{'a', 'c', 'e', 'g', 'r', 't', 'w'}"
      ]
     },
     "execution_count": 4,
     "metadata": {},
     "output_type": "execute_result"
    }
   ],
   "source": [
    "#Symmetric_difference\n",
    "set1.symmetric_difference(set2)"
   ]
  },
  {
   "cell_type": "code",
   "execution_count": 5,
   "id": "b9b6f86b",
   "metadata": {},
   "outputs": [
    {
     "data": {
      "text/plain": [
       "{'d', 'q'}"
      ]
     },
     "execution_count": 5,
     "metadata": {},
     "output_type": "execute_result"
    }
   ],
   "source": [
    "#Symmetric difference Using ^ operator\n",
    "set2^set3 #common element from both set"
   ]
  },
  {
   "cell_type": "code",
   "execution_count": 6,
   "id": "1a62bcc6",
   "metadata": {},
   "outputs": [
    {
     "data": {
      "text/plain": [
       "{'d', 'e', 'q', 'r', 't', 'w'}"
      ]
     },
     "execution_count": 6,
     "metadata": {},
     "output_type": "execute_result"
    }
   ],
   "source": [
    "set2.union(set3)# Non common element from both set"
   ]
  }
 ],
 "metadata": {
  "kernelspec": {
   "display_name": "Python 3 (ipykernel)",
   "language": "python",
   "name": "python3"
  },
  "language_info": {
   "codemirror_mode": {
    "name": "ipython",
    "version": 3
   },
   "file_extension": ".py",
   "mimetype": "text/x-python",
   "name": "python",
   "nbconvert_exporter": "python",
   "pygments_lexer": "ipython3",
   "version": "3.8.9"
  }
 },
 "nbformat": 4,
 "nbformat_minor": 5
}
