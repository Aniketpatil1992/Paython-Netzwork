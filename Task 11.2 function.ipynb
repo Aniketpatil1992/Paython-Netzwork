{
 "cells": [
  {
   "cell_type": "markdown",
   "id": "9198132d",
   "metadata": {},
   "source": [
    "### Ask 2 numbers from users and store it in num1 and num2\n",
    "### Ask user to press 1 for addition,2 for subtraction,3 for multiplication and 4 for division\n",
    "### create 4 seperate functions for each operation (i.e. addition,subtraction,multiplication and division)\n",
    "### based on number given by user,call that perticular function and print the output"
   ]
  },
  {
   "cell_type": "code",
   "execution_count": null,
   "id": "0220ead1",
   "metadata": {},
   "outputs": [],
   "source": [
    "num1= float(input(\"Enter 1st value :\"))\n",
    "num2= float(input(\"Enter 2nd value :\"))\n",
    "def add():\n",
    "    num3=num1+num2\n",
    "    print(\"Addition of two numbers is :\",nun3)\n",
    "def sub():\n",
    "    num4=num1-num2\n",
    "    print(\"subtraction of two numbers is :\",num4)\n",
    "def mul():\n",
    "    num5=num1*num2\n",
    "    print(\"Multiplication of two numbers is :\",num5)\n",
    "def div():\n",
    "    num6=num1/num2\n",
    "    print(\"division of two numbers is :\",num6)\n",
    "a=int(input(\"\"\"\"Enter your choice\\n\n",
    "    1 for addition,\\n \n",
    "    2 for subtraction,\\n \n",
    "    3 for multiplication\\n \n",
    "    and 4 for division\\n\n",
    "    Youe choice is :\"\"\"))\n",
    "if a==1:\n",
    "    add()\n",
    "elif a==2:\n",
    "    sub()\n",
    "elif a==3:\n",
    "    mul()\n",
    "elif a==4:\n",
    "    div()\n",
    "else:\n",
    "    print(\"Wrong choice\")"
   ]
  }
 ],
 "metadata": {
  "kernelspec": {
   "display_name": "Python 3 (ipykernel)",
   "language": "python",
   "name": "python3"
  },
  "language_info": {
   "codemirror_mode": {
    "name": "ipython",
    "version": 3
   },
   "file_extension": ".py",
   "mimetype": "text/x-python",
   "name": "python",
   "nbconvert_exporter": "python",
   "pygments_lexer": "ipython3",
   "version": "3.8.9"
  }
 },
 "nbformat": 4,
 "nbformat_minor": 5
}
