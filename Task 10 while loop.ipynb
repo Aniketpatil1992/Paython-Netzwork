{
 "cells": [
  {
   "cell_type": "code",
   "execution_count": 2,
   "id": "e40e9194",
   "metadata": {},
   "outputs": [
    {
     "name": "stdout",
     "output_type": "stream",
     "text": [
      "10\n",
      "9\n",
      "8\n",
      "7\n",
      "6\n",
      "5\n",
      "4\n",
      "3\n",
      "2\n",
      "1\n"
     ]
    }
   ],
   "source": [
    "# using while loop print numbers from 10 to 1\n",
    "n=1\n",
    "sum=11\n",
    "while n<sum:\n",
    "    sum=sum-n\n",
    "    print(sum)"
   ]
  },
  {
   "cell_type": "code",
   "execution_count": 20,
   "id": "4e9acb7c",
   "metadata": {},
   "outputs": [
    {
     "name": "stdout",
     "output_type": "stream",
     "text": [
      "jan\n",
      "feb\n",
      "march\n",
      "1\n",
      "3\n",
      "5\n",
      "7\n",
      "9\n",
      "a\n",
      "b\n",
      "c\n"
     ]
    }
   ],
   "source": [
    "#try using for loop to loop over tuples,sets and dictionarie\n",
    "tuple=(\"jan\",\"feb\",\"march\")\n",
    "set={1,5,9,7,3}\n",
    "dict={\"a\":1,\n",
    "      \"b\":2,\n",
    "     \"c\":3}\n",
    "for i in tuple:\n",
    "    print(i)\n",
    "for i in set:\n",
    "    print(i)\n",
    "for i in dict:\n",
    "    print(i)"
   ]
  }
 ],
 "metadata": {
  "kernelspec": {
   "display_name": "Python 3 (ipykernel)",
   "language": "python",
   "name": "python3"
  },
  "language_info": {
   "codemirror_mode": {
    "name": "ipython",
    "version": 3
   },
   "file_extension": ".py",
   "mimetype": "text/x-python",
   "name": "python",
   "nbconvert_exporter": "python",
   "pygments_lexer": "ipython3",
   "version": "3.8.9"
  }
 },
 "nbformat": 4,
 "nbformat_minor": 5
}
