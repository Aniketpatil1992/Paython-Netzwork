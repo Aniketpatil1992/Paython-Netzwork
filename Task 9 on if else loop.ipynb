{
 "cells": [
  {
   "cell_type": "markdown",
   "id": "4b5d2f9d",
   "metadata": {},
   "source": [
    "# task 9"
   ]
  },
  {
   "cell_type": "code",
   "execution_count": null,
   "id": "9de99301",
   "metadata": {},
   "outputs": [],
   "source": [
    "# Ask 2 numbers from users and store it in num1 and num2\n",
    "# Ask user to press 1 for addition,2 for subtraction,3 for multiplication and 4 for division\n",
    "# based on number given by user do the math operation"
   ]
  },
  {
   "cell_type": "code",
   "execution_count": 9,
   "id": "78d47bb9",
   "metadata": {},
   "outputs": [
    {
     "name": "stdout",
     "output_type": "stream",
     "text": [
      "Enter num 1:10\n",
      "Enter num 2:5\n",
      "Select the option.\n",
      " \n",
      "1 for Addoition\n",
      " \n",
      "2 for substractoin\n",
      " \n",
      "3 for multiplication\n",
      " \n",
      "4 for division\n",
      " \n",
      "your selection is:4\n",
      "num1/num2= 2.0\n"
     ]
    }
   ],
   "source": [
    "num1=int(input(\"Enter num 1:\"))\n",
    "num2=int(input(\"Enter num 2:\"))\n",
    "add=num1+num2\n",
    "sub=num1-num2\n",
    "mul=num1*num2\n",
    "div=num1/num2\n",
    "num3=int(input(\"\"\"Select the option.\\n \n",
    "1 for Addoition\\n \n",
    "2 for substractoin\\n \n",
    "3 for multiplication\\n \n",
    "4 for division\\n \n",
    "your selection is:\"\"\"))\n",
    "if num3==1:\n",
    "    print(\"num1+num2=\",add)\n",
    "elif num3==2:\n",
    "    print(\"num1-num2=\",sub)\n",
    "elif num3==3:\n",
    "    print(\"num1*num2=\",mul)\n",
    "elif num3==4:\n",
    "    print(\"num1/num2=\",div)\n",
    "else:\n",
    "    print(\"Wrong selection\")\n"
   ]
  }
 ],
 "metadata": {
  "kernelspec": {
   "display_name": "Python 3 (ipykernel)",
   "language": "python",
   "name": "python3"
  },
  "language_info": {
   "codemirror_mode": {
    "name": "ipython",
    "version": 3
   },
   "file_extension": ".py",
   "mimetype": "text/x-python",
   "name": "python",
   "nbconvert_exporter": "python",
   "pygments_lexer": "ipython3",
   "version": "3.8.9"
  }
 },
 "nbformat": 4,
 "nbformat_minor": 5
}
