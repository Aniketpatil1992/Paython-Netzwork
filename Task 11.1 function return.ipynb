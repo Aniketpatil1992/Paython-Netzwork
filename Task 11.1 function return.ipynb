{
 "cells": [
  {
   "cell_type": "markdown",
   "id": "581b5227",
   "metadata": {},
   "source": [
    "#### return keyword can be used to return values from a function\n",
    "#### it can be used to end the execution of a function\n",
    "#### statements below return keyword will not get executed"
   ]
  },
  {
   "cell_type": "code",
   "execution_count": 7,
   "id": "a767b6e0",
   "metadata": {},
   "outputs": [],
   "source": [
    "def product(x,y,z):\n",
    "    a = x * y + z\n",
    "    return a\n",
    "    print(a) #will not execute"
   ]
  },
  {
   "cell_type": "code",
   "execution_count": 9,
   "id": "22d9c901",
   "metadata": {},
   "outputs": [
    {
     "data": {
      "text/plain": [
       "23"
      ]
     },
     "execution_count": 9,
     "metadata": {},
     "output_type": "execute_result"
    }
   ],
   "source": [
    "my_num = product(10,2,3)# here output cant come as print(z) code below the return keyword\n",
    "my_num"
   ]
  }
 ],
 "metadata": {
  "kernelspec": {
   "display_name": "Python 3 (ipykernel)",
   "language": "python",
   "name": "python3"
  },
  "language_info": {
   "codemirror_mode": {
    "name": "ipython",
    "version": 3
   },
   "file_extension": ".py",
   "mimetype": "text/x-python",
   "name": "python",
   "nbconvert_exporter": "python",
   "pygments_lexer": "ipython3",
   "version": "3.8.9"
  }
 },
 "nbformat": 4,
 "nbformat_minor": 5
}
