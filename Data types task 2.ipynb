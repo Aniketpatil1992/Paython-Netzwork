{
 "cells": [
  {
   "cell_type": "code",
   "execution_count": 2,
   "id": "7dde032c",
   "metadata": {},
   "outputs": [
    {
     "name": "stdout",
     "output_type": "stream",
     "text": [
      "True\n"
     ]
    }
   ],
   "source": [
    "# task 2) \n",
    "\n",
    "# given a string for example\n",
    "str1 = \"Welcome to python\"\n",
    "print(\"to\" in str1)\n",
    "\n",
    "# check if \"to\" is present in \"welcome to python\""
   ]
  }
 ],
 "metadata": {
  "kernelspec": {
   "display_name": "Python 3 (ipykernel)",
   "language": "python",
   "name": "python3"
  },
  "language_info": {
   "codemirror_mode": {
    "name": "ipython",
    "version": 3
   },
   "file_extension": ".py",
   "mimetype": "text/x-python",
   "name": "python",
   "nbconvert_exporter": "python",
   "pygments_lexer": "ipython3",
   "version": "3.8.9"
  }
 },
 "nbformat": 4,
 "nbformat_minor": 5
}
