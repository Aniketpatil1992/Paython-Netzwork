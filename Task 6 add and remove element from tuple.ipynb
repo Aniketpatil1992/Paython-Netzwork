{
 "cells": [
  {
   "cell_type": "markdown",
   "id": "3354650f",
   "metadata": {},
   "source": [
    "# Add the elements from a tuple."
   ]
  },
  {
   "cell_type": "code",
   "execution_count": 2,
   "id": "e3f153ed",
   "metadata": {},
   "outputs": [
    {
     "name": "stdout",
     "output_type": "stream",
     "text": [
      "('Python', 'java', '.net', 'AI')\n"
     ]
    }
   ],
   "source": [
    "A=(\"Python\",\"java\",\".net\")\n",
    "#A[0]=1 #'tuple' object does not support item assignment\n",
    "A=list(A) # converting into list\n",
    "A.append(\"AI\")\n",
    "A=tuple(A)\n",
    "print(A)"
   ]
  },
  {
   "cell_type": "markdown",
   "id": "8d8b41d9",
   "metadata": {},
   "source": [
    "# remove the elements from a tuple"
   ]
  },
  {
   "cell_type": "code",
   "execution_count": 5,
   "id": "b11f87b9",
   "metadata": {},
   "outputs": [
    {
     "name": "stdout",
     "output_type": "stream",
     "text": [
      "['Python', '.net']\n",
      "('Python', '.net')\n"
     ]
    }
   ],
   "source": [
    "A=(\"Python\",\"java\",\".net\")\n",
    "A=list(A)\n",
    "A.remove(\"java\")\n",
    "print(A) # output in list \n",
    "A=tuple(A)\n",
    "print(A) #output in tuple"
   ]
  }
 ],
 "metadata": {
  "kernelspec": {
   "display_name": "Python 3 (ipykernel)",
   "language": "python",
   "name": "python3"
  },
  "language_info": {
   "codemirror_mode": {
    "name": "ipython",
    "version": 3
   },
   "file_extension": ".py",
   "mimetype": "text/x-python",
   "name": "python",
   "nbconvert_exporter": "python",
   "pygments_lexer": "ipython3",
   "version": "3.8.9"
  }
 },
 "nbformat": 4,
 "nbformat_minor": 5
}
