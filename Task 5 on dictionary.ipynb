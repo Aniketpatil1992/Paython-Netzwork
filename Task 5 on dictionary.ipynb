{
 "cells": [
  {
   "cell_type": "markdown",
   "id": "61a5f5e3",
   "metadata": {},
   "source": [
    "# task 5"
   ]
  },
  {
   "cell_type": "markdown",
   "id": "978785ca",
   "metadata": {},
   "source": [
    "# From the above dictionary, do the following tasks\n",
    "\n",
    "# 1.access \"Mike\"\n",
    "# 2.access 80\n",
    "# 3.change \"Mike\" to \"Your name\"\n",
    "# 4.add ML = 80 and DL = 80 inside marks"
   ]
  },
  {
   "cell_type": "code",
   "execution_count": 3,
   "id": "5a9e8d6e",
   "metadata": {},
   "outputs": [
    {
     "name": "stdout",
     "output_type": "stream",
     "text": [
      "Mike\n",
      "80\n",
      "{'april_batch': {'student': {'name': 'Aniket Patil', 'marks': {'python': 80, 'maths': 70}}}}\n",
      "{'python': 80, 'maths': 70, 'ML': '80', 'DL': '80'}\n"
     ]
    }
   ],
   "source": [
    "dict1 = { \n",
    "   \"april_batch\":{ \n",
    "      \"student\":{ \n",
    "         \"name\":\"Mike\",\n",
    "         \"marks\":{ \n",
    "            \"python\":80,\n",
    "            \"maths\":70\n",
    "         }\n",
    "      }\n",
    "   }\n",
    "}\n",
    "x= dict1[\"april_batch\"][\"student\"][\"name\"]\n",
    "y= dict1[\"april_batch\"][\"student\"]\n",
    "z=y[\"marks\"][\"python\"]\n",
    "print(x) # 1.access \"Mike\"\n",
    "print(z) # 2.access 80\n",
    "y[\"name\"]=\"Aniket Patil\" \n",
    "print(dict1)# 3.change \"Mike\" to \"Your name\"\n",
    "a=y[\"marks\"]\n",
    "a[\"ML\"]= \"80\"\n",
    "a[\"DL\"]= \"80\"\n",
    "print(a) # 4.add ML = 80 and DL = 80 inside marks"
   ]
  }
 ],
 "metadata": {
  "kernelspec": {
   "display_name": "Python 3 (ipykernel)",
   "language": "python",
   "name": "python3"
  },
  "language_info": {
   "codemirror_mode": {
    "name": "ipython",
    "version": 3
   },
   "file_extension": ".py",
   "mimetype": "text/x-python",
   "name": "python",
   "nbconvert_exporter": "python",
   "pygments_lexer": "ipython3",
   "version": "3.8.9"
  }
 },
 "nbformat": 4,
 "nbformat_minor": 5
}
