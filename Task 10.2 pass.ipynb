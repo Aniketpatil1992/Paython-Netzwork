{
 "cells": [
  {
   "cell_type": "code",
   "execution_count": 6,
   "id": "a8318425",
   "metadata": {},
   "outputs": [],
   "source": [
    "# To avoid getting an error when empty code is not allowed. And empty code is not allowed in loops, if else, function, class.\n",
    "# The pass statement is used as placeholder for future code.\n",
    "if(4>2):\n",
    "    pass"
   ]
  }
 ],
 "metadata": {
  "kernelspec": {
   "display_name": "Python 3 (ipykernel)",
   "language": "python",
   "name": "python3"
  },
  "language_info": {
   "codemirror_mode": {
    "name": "ipython",
    "version": 3
   },
   "file_extension": ".py",
   "mimetype": "text/x-python",
   "name": "python",
   "nbconvert_exporter": "python",
   "pygments_lexer": "ipython3",
   "version": "3.8.9"
  }
 },
 "nbformat": 4,
 "nbformat_minor": 5
}
