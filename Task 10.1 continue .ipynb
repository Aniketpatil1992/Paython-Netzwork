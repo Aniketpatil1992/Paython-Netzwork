{
 "cells": [
  {
   "cell_type": "code",
   "execution_count": 17,
   "id": "2c62222d",
   "metadata": {},
   "outputs": [
    {
     "name": "stdout",
     "output_type": "stream",
     "text": [
      "Monday\n",
      "Tuesday\n",
      "Sunday\n",
      "Wednesday\n",
      "Thursday\n",
      "Friday\n",
      "Saturday\n",
      "Today is holiday\n"
     ]
    }
   ],
   "source": [
    "days=['Monday','Tuesday','Sunday','Wednesday','Thursday','Friday','Saturday']\n",
    "for i in days:\n",
    "    print(i)\n",
    "    if(i=='Sunday'):\n",
    "        continue# below block cant run and skipped \n",
    "        print(\"Today is working day\")\n",
    "else:\n",
    "    print(\"Today is holiday\")"
   ]
  }
 ],
 "metadata": {
  "kernelspec": {
   "display_name": "Python 3 (ipykernel)",
   "language": "python",
   "name": "python3"
  },
  "language_info": {
   "codemirror_mode": {
    "name": "ipython",
    "version": 3
   },
   "file_extension": ".py",
   "mimetype": "text/x-python",
   "name": "python",
   "nbconvert_exporter": "python",
   "pygments_lexer": "ipython3",
   "version": "3.8.9"
  }
 },
 "nbformat": 4,
 "nbformat_minor": 5
}
